{
 "cells": [
  {
   "cell_type": "code",
   "execution_count": 30,
   "metadata": {},
   "outputs": [],
   "source": [
    "import sklearn\n",
    "import pickle\n",
    "from datetime import datetime\n",
    "\n",
    "counters = {\n",
    "    '149157': 'Haukkalampi - Solvalla yhdysreitin kävijälaskuri', \n",
    "    '151989':'Nuuksio, Veikkolan kävijälaskuri',\n",
    "    '186819': 'Mustakorventien 2. laskuri',\n",
    "    '188852': 'Siikaranta kävijälaskuri',\n",
    "    '109144': 'Kattila niityn portin kävijälaskuri',\n",
    "    '125383': 'Nuuksio Takalanpolun laskuri',\n",
    "    '94722': 'Klassarinkierroksen kävijälaskuri',\n",
    "    '51257': 'Haukkalammen ekopisteen kävijälaskuri',\n",
    "    '168237': 'Matalajärven kävijälaskuri'\n",
    "}\n"
   ]
  },
  {
   "cell_type": "code",
   "execution_count": 31,
   "metadata": {},
   "outputs": [],
   "source": [
    "m = pickle.load(open('nuuksio_paths.sav', 'rb'))"
   ]
  },
  {
   "cell_type": "code",
   "execution_count": 46,
   "metadata": {},
   "outputs": [],
   "source": [
    "features = {\n",
    "    'visits': 100,\n",
    "    'hour': 0,\n",
    "    'weekday_0': 0,\n",
    "    'weekday_1': 0,\n",
    "    'weekday_2': 0,\n",
    "    'weekday_3': 0,\n",
    "    'weekday_4': 0,\n",
    "    'weekday_5': 0,\n",
    "    'weekday_6': 0,\n",
    "    'month_1': 0,\n",
    "    'month_2': 0,\n",
    "    'month_3': 0,\n",
    "    'month_4': 0,\n",
    "    'month_5': 0,\n",
    "    'month_6': 0,\n",
    "    'month_7': 0,\n",
    "    'month_8': 0,\n",
    "    'month_9': 0,\n",
    "    'month_10': 0,\n",
    "    'month_11': 0,\n",
    "    'month_12': 0,\n",
    "    '51257': 0,\n",
    "    '94722': 0,\n",
    "    '109144': 0,\n",
    "    '125383': 0,\n",
    "    '149157': 0,\n",
    "    '151989': 0,\n",
    "    '168237': 0,\n",
    "    '186819': 0,\n",
    "    '188852': 0\n",
    "}"
   ]
  },
  {
   "cell_type": "code",
   "execution_count": 47,
   "metadata": {},
   "outputs": [],
   "source": [
    "import sklearn\n",
    "import pickle\n",
    "\n",
    "counters = {\n",
    "    '149157': 'Haukkalampi - Solvalla yhdysreitin kävijälaskuri', \n",
    "    '151989':'Nuuksio, Veikkolan kävijälaskuri',\n",
    "    '186819': 'Mustakorventien 2. laskuri',\n",
    "    '188852': 'Siikaranta kävijälaskuri',\n",
    "    '109144': 'Kattila niityn portin kävijälaskuri',\n",
    "    '125383': 'Nuuksio Takalanpolun laskuri',\n",
    "    '94722': 'Klassarinkierroksen kävijälaskuri',\n",
    "    '51257': 'Haukkalammen ekopisteen kävijälaskuri',\n",
    "    '168237': 'Matalajärven kävijälaskuri'\n",
    "}\n",
    "\n",
    "class Ml:\n",
    "    def __init__(self, model_file='model.sav'):\n",
    "        self.model = pickle.load(open(model_file, 'rb'))\n",
    "        \n",
    "    def __create_features(self, timestamp, counter):\n",
    "        fe = features.copy()\n",
    "        dt = datetime.utcfromtimestamp(timestamp)\n",
    "        fe['hour'] = dt.hour\n",
    "        fe['weekday_' + str(dt.weekday())]\n",
    "        fe['month_' + str(dt.month)]\n",
    "        fe[counter] = 1\n",
    "        return [list(fe.values())]\n",
    "        \n",
    "    \n",
    "    def predict(self, timestamp, counter=None):\n",
    "        if counter:\n",
    "            fe = self.__create_features(timestamp, counter)\n",
    "            result = self.model.predict(fe)[0]\n",
    "            return result\n",
    "        \n",
    "        result = 0\n",
    "        for c in counters:\n",
    "            fe = self.__create_features(timestamp, c)\n",
    "            result += self.model.predict(fe)[0]\n",
    "        \n",
    "        return result"
   ]
  },
  {
   "cell_type": "code",
   "execution_count": null,
   "metadata": {},
   "outputs": [],
   "source": []
  }
 ],
 "metadata": {
  "kernelspec": {
   "display_name": "Python 3",
   "language": "python",
   "name": "python3"
  },
  "language_info": {
   "codemirror_mode": {
    "name": "ipython",
    "version": 3
   },
   "file_extension": ".py",
   "mimetype": "text/x-python",
   "name": "python",
   "nbconvert_exporter": "python",
   "pygments_lexer": "ipython3",
   "version": "3.7.3"
  }
 },
 "nbformat": 4,
 "nbformat_minor": 2
}
