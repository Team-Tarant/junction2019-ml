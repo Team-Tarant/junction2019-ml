{
 "cells": [
  {
   "cell_type": "code",
   "execution_count": 15,
   "metadata": {},
   "outputs": [],
   "source": [
    "import pandas as pd\n",
    "from datetime import datetime\n",
    "import numpy as np\n",
    "from sklearn.model_selection import train_test_split\n",
    "from sklearn.ensemble import RandomForestRegressor\n",
    "from sklearn.metrics import accuracy_score\n",
    "import pickle"
   ]
  },
  {
   "cell_type": "code",
   "execution_count": 16,
   "metadata": {},
   "outputs": [],
   "source": [
    "df = pd.read_csv('data.csv', header=0)"
   ]
  },
  {
   "cell_type": "code",
   "execution_count": 17,
   "metadata": {},
   "outputs": [],
   "source": [
    "# nuuksio area code\n",
    "df = df[df['ASTA_Counters.RegionalEntity']==625046]"
   ]
  },
  {
   "cell_type": "code",
   "execution_count": 18,
   "metadata": {},
   "outputs": [],
   "source": [
    "df = df.drop('CounterReadingID', 1)\n",
    "df = df.drop('CounterID_ASTA', 1)\n",
    "df = df.drop('SequenceNumber', 1)\n",
    "df = df.drop('ASTA_Counters.InstallationDate', 1)\n",
    "df = df.drop('ASTA_Counters.NationalParkCode', 1)\n",
    "df = df.drop('ASTA_Counters.RegionalUnit', 1)\n",
    "df = df.drop('ASTA_Counters.RegionalEntity', 1)\n",
    "df = df.drop('ASTA_Counters.Name_ASTA', 1)\n",
    "df = df.drop('PAVE_Counters.Globalid', 1)\n",
    "df = df.drop('PAVE_Counters.Manager', 1)\n",
    "df = df.drop('PAVE_Counters.AdditionalInfo', 1)\n",
    "df = df.drop('PAVE_Counters.CoordinateNorth', 1)\n",
    "df = df.drop('PAVE_Counters.CoordinateEast', 1)\n",
    "df = df.drop('ASTA_Counters.Municipality', 1)\n",
    "df = df.drop('Unnamed: 0', 1)"
   ]
  },
  {
   "cell_type": "code",
   "execution_count": 19,
   "metadata": {},
   "outputs": [],
   "source": [
    "df = df.rename({'ASTA_Counters.CounterID_PAVE': 'CounterId', 'PAVE_Counters.Name': 'CounterName'}, axis=1)"
   ]
  },
  {
   "cell_type": "code",
   "execution_count": 20,
   "metadata": {},
   "outputs": [],
   "source": [
    "df['Weekday'] = [None for x in range(len(df))]\n",
    "df['Month'] = [None for x in range(len(df))]\n",
    "df['Hour'] = [None for x in range(len(df))]"
   ]
  },
  {
   "cell_type": "code",
   "execution_count": 21,
   "metadata": {},
   "outputs": [],
   "source": [
    "def f(row):\n",
    "    timestamp = datetime.strptime(row['StartTime'], '%Y-%m-%d %H:%M:%S')\n",
    "    row['Weekday'] = timestamp.weekday()\n",
    "    row['Hour'] = timestamp.hour\n",
    "    row['Month'] = timestamp.month\n",
    "    return row"
   ]
  },
  {
   "cell_type": "code",
   "execution_count": 22,
   "metadata": {},
   "outputs": [],
   "source": [
    "df = df.apply(f, axis=1)"
   ]
  },
  {
   "cell_type": "code",
   "execution_count": 23,
   "metadata": {},
   "outputs": [],
   "source": [
    "df['Weekday'] = df['Weekday'].astype('category')\n",
    "df['Month'] = df['Month'].astype('category')\n",
    "df['CounterId'] = df['CounterId'].astype('int64')\n",
    "df['CounterId'] = df['CounterId'].astype('category')"
   ]
  },
  {
   "cell_type": "code",
   "execution_count": 24,
   "metadata": {},
   "outputs": [],
   "source": [
    "df = pd.concat([df, pd.get_dummies(df['Weekday'], prefix='Weekday')], axis=1)\n",
    "df = pd.concat([df, pd.get_dummies(df['Month'], prefix='Month')], axis=1)\n",
    "df = pd.concat([df, pd.get_dummies(df['CounterId'], prefix='CounterId')], axis=1)"
   ]
  },
  {
   "cell_type": "code",
   "execution_count": 25,
   "metadata": {},
   "outputs": [
    {
     "name": "stdout",
     "output_type": "stream",
     "text": [
      "149157\n",
      "Haukkalampi - Solvalla yhdysreitin kävijälaskuri\n",
      "151989\n",
      "Nuuksio, Veikkolan kävijälaskuri\n",
      "186819\n",
      "Mustakorventien 2. laskuri\n",
      "188852\n",
      "Siikaranta kävijälaskuri\n",
      "109144\n",
      "Kattila niityn portin kävijälaskuri\n",
      "125383\n",
      "Nuuksio Takalanpolun laskuri\n",
      "94722\n",
      "Klassarinkierroksen kävijälaskuri\n",
      "51257\n",
      "Haukkalammen ekopisteen kävijälaskuri\n",
      "168237\n",
      "Matalajärven kävijälaskuri\n"
     ]
    }
   ],
   "source": [
    "for x in df['CounterId'].unique():\n",
    "    print(x)\n",
    "    print(df[df['CounterId'] == x]['CounterName'].unique()[0])"
   ]
  },
  {
   "cell_type": "code",
   "execution_count": 26,
   "metadata": {},
   "outputs": [],
   "source": [
    "df = df.drop('StartTime', 1)\n",
    "df = df.drop('EndTime', 1)\n",
    "df = df.drop('CounterName', 1)\n",
    "df = df.drop('CounterId', 1)\n",
    "df = df.drop('Weekday', 1)\n",
    "df = df.drop('Month', 1)"
   ]
  },
  {
   "cell_type": "code",
   "execution_count": 27,
   "metadata": {},
   "outputs": [],
   "source": [
    "y = np.array(df['Visits'])\n",
    "\n",
    "X = df.drop('Visits', axis=1)\n",
    "\n",
    "X_names = list(X.columns)\n",
    "\n",
    "X = np.array(X)"
   ]
  },
  {
   "cell_type": "code",
   "execution_count": 28,
   "metadata": {},
   "outputs": [],
   "source": [
    "X_train, X_test, y_train, y_test = train_test_split(X, y, test_size = 0.25, random_state = 1)"
   ]
  },
  {
   "cell_type": "code",
   "execution_count": 29,
   "metadata": {},
   "outputs": [],
   "source": [
    "rf = RandomForestRegressor(n_estimators = 1500, max_depth=15, random_state = 1)\n",
    "\n",
    "rf.fit(X_train, y_train);"
   ]
  },
  {
   "cell_type": "code",
   "execution_count": 30,
   "metadata": {},
   "outputs": [
    {
     "name": "stdout",
     "output_type": "stream",
     "text": [
      "Mean Absolute Error: 6.19 degrees.\n"
     ]
    }
   ],
   "source": [
    "y_pred = rf.predict(X_test)\n",
    "\n",
    "errors = abs(y_pred - y_test)\n",
    "\n",
    "print('Mean Absolute Error:', round(np.mean(errors), 2), 'degrees.')"
   ]
  },
  {
   "cell_type": "code",
   "execution_count": 31,
   "metadata": {},
   "outputs": [
    {
     "name": "stdout",
     "output_type": "stream",
     "text": [
      "Accuracy: 49.77 %.\n"
     ]
    }
   ],
   "source": [
    "score = rf.score(X_test, y_test)\n",
    "\n",
    "print('Accuracy:', round(score * 100, 2), '%.')"
   ]
  },
  {
   "cell_type": "code",
   "execution_count": 32,
   "metadata": {},
   "outputs": [],
   "source": [
    "pickle.dump(rf, open('nuuksio_paths.sav', 'wb'))"
   ]
  },
  {
   "cell_type": "code",
   "execution_count": null,
   "metadata": {},
   "outputs": [],
   "source": []
  }
 ],
 "metadata": {
  "kernelspec": {
   "display_name": "Python 3",
   "language": "python",
   "name": "python3"
  },
  "language_info": {
   "codemirror_mode": {
    "name": "ipython",
    "version": 3
   },
   "file_extension": ".py",
   "mimetype": "text/x-python",
   "name": "python",
   "nbconvert_exporter": "python",
   "pygments_lexer": "ipython3",
   "version": "3.7.3"
  }
 },
 "nbformat": 4,
 "nbformat_minor": 2
}
